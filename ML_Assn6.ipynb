{
  "nbformat": 4,
  "nbformat_minor": 0,
  "metadata": {
    "colab": {
      "provenance": [],
      "toc_visible": true,
      "authorship_tag": "ABX9TyNKgbe+kjJ1pUh1Ebd82C67",
      "include_colab_link": true
    },
    "kernelspec": {
      "name": "python3",
      "display_name": "Python 3"
    },
    "language_info": {
      "name": "python"
    }
  },
  "cells": [
    {
      "cell_type": "markdown",
      "metadata": {
        "id": "view-in-github",
        "colab_type": "text"
      },
      "source": [
        "<a href=\"https://colab.research.google.com/github/ADARSH1115/ML-LAB/blob/main/ML_Assn6.ipynb\" target=\"_parent\"><img src=\"https://colab.research.google.com/assets/colab-badge.svg\" alt=\"Open In Colab\"/></a>"
      ]
    },
    {
      "cell_type": "markdown",
      "source": [
        "(Gaussian Naïve Bayes Classifier) Implement Gaussian Naïve Bayes Classifier on the Iris dataset from sklearn.datasets using\n",
        "(ii) In-built function"
      ],
      "metadata": {
        "id": "aHEXzl50LiNZ"
      }
    },
    {
      "cell_type": "code",
      "execution_count": 7,
      "metadata": {
        "colab": {
          "base_uri": "https://localhost:8080/"
        },
        "id": "UVAgGwYpIQbV",
        "outputId": "d1ebaddc-9b5e-4d14-aa00-f0fc1164150e"
      },
      "outputs": [
        {
          "output_type": "stream",
          "name": "stdout",
          "text": [
            "Accuracy: 0.9666666666666667\n"
          ]
        }
      ],
      "source": [
        "import pandas as pd\n",
        "import numpy as np\n",
        "from sklearn.model_selection import train_test_split\n",
        "from sklearn.naive_bayes import GaussianNB\n",
        "from sklearn.metrics import accuracy_score\n",
        "\n",
        "from sklearn.datasets import load_iris\n",
        "\n",
        "data=load_iris()\n",
        "x=data['data']\n",
        "y=data['target']\n",
        "\n",
        "x_train,x_test,y_train,y_test=train_test_split(x,y,test_size=0.2,random_state=43)\n",
        "\n",
        "gnb=GaussianNB()\n",
        "gnb.fit(x_train,y_train)\n",
        "\n",
        "y_pred=gnb.predict(x_test)\n",
        "\n",
        "accuracy=accuracy_score(y_test,y_pred)\n",
        "print(\"Accuracy:\",accuracy)"
      ]
    },
    {
      "cell_type": "markdown",
      "source": [
        "i.Gaussion NB(step by step)"
      ],
      "metadata": {
        "id": "iNsCvnWoNKuq"
      }
    },
    {
      "cell_type": "code",
      "source": [
        "from operator import pos\n",
        "import numpy as np\n",
        "from sklearn.datasets import load_iris\n",
        "from sklearn.model_selection import train_test_split\n",
        "from sklearn.metrics import accuracy_score\n",
        "\n",
        "\n",
        "from sklearn.datasets import load_iris\n",
        "data=load_iris()\n",
        "x=data['data']\n",
        "y=data['target']\n",
        "\n",
        "x_train,x_test,y_train,y_test=train_test_split(x,y,test_size=0.2,random_state=43)\n",
        "\n",
        "\n",
        "classes, class_counts = np.unique(y_train, return_counts=True)\n",
        "class_priors = class_counts / len(y_train)\n",
        "\n",
        "\n",
        "mean = np.zeros((len(classes), x_train.shape[1]))\n",
        "var = np.zeros((len(classes), x_train.shape[1]))\n",
        "\n",
        "\n",
        "for idx, c in enumerate(classes):\n",
        "    X_c = x_train[y_train == c]\n",
        "    mean[idx, :] = X_c.mean(axis=0)\n",
        "    var[idx, :] = X_c.var(axis=0)\n",
        "\n",
        "\n",
        "def gaussian_density(x, mean, var):\n",
        "    numerator=np.exp(-(x - mean) ** 2 / (2 * var))\n",
        "    denominator=np.sqrt(2 * np.pi * var)\n",
        "    return numerator / denominator\n",
        "\n",
        "\n",
        "\n",
        "def predict(x):\n",
        "    posteriors = []\n",
        "\n",
        "    for X in x:\n",
        "      posterior = []\n",
        "      for idx, c in enumerate(classes):\n",
        "        prior = np.log(class_priors[idx])\n",
        "        conditional = np.sum(np.log(gaussian_density(X, mean[idx], var[idx])))\n",
        "        posterior.append(prior + conditional)\n",
        "      posteriors.append(classes[np.argmax(posterior)])\n",
        "\n",
        "    return np.array(posteriors)\n",
        "\n",
        "\n",
        "y_pred = predict(x_test)\n",
        "accuracy = accuracy_score(y_test, y_pred)\n",
        "print(\"Accuracy:\", accuracy)\n",
        "\n",
        "\n",
        "\n",
        "\n",
        "\n",
        "\n",
        "\n",
        "\n",
        "\n",
        "\n",
        "\n",
        "\n",
        "\n",
        "\n",
        "\n",
        "\n",
        "\n",
        "\n"
      ],
      "metadata": {
        "colab": {
          "base_uri": "https://localhost:8080/"
        },
        "id": "8UlDtY-BNIKI",
        "outputId": "7e4f1517-ad69-493d-8b10-ecee89d4be4d"
      },
      "execution_count": 6,
      "outputs": [
        {
          "output_type": "stream",
          "name": "stdout",
          "text": [
            "Accuracy: 0.9666666666666667\n"
          ]
        }
      ]
    },
    {
      "cell_type": "markdown",
      "source": [
        "Explore about GridSearchCV toot in scikit-learn. This is a tool that is often used for tuning hyperparameters of machine learning models. Use this tool to find the best value of K for K-NN Classifier using any dataset."
      ],
      "metadata": {
        "id": "Tbg4Vad_Q2E3"
      }
    },
    {
      "cell_type": "code",
      "source": [
        "import pandas as pd\n",
        "import numpy as np\n",
        "from sklearn.model_selection import train_test_split\n",
        "from sklearn.neighbors import KNeighborsClassifier\n",
        "from sklearn.metrics import accuracy_score\n",
        "from sklearn.model_selection import GridSearchCV\n",
        "\n",
        "from sklearn.datasets import load_iris\n",
        "\n",
        "\n",
        "data=load_iris()\n",
        "x=data['data']\n",
        "y=data['target']\n",
        "\n",
        "x_train,x_test,y_train,y_test=train_test_split(x,y,test_size=0.2,random_state=43)\n",
        "\n",
        "knn=KNeighborsClassifier()\n",
        "\n",
        "param_grid={'n_neighbors':np.arange(1,30)}\n",
        "\n",
        "grid_search=GridSearchCV(knn,param_grid,cv=5,scoring='accuracy')\n",
        "\n",
        "grid_search.fit(x_train,y_train)\n",
        "\n",
        "\n",
        "print(f\"Best K found by GridSearchCV: {grid_search.best_params_['n_neighbors']}\")\n",
        "print(f\"Best cross-validated accuracy: {grid_search.best_score_:.4f}\")\n",
        "\n",
        "# Step 6: Evaluate the model on the test set\n",
        "best_knn = grid_search.best_estimator_  # Get the model with the best K\n",
        "y_pred = best_knn.predict(x_test)\n",
        "test_accuracy = accuracy_score(y_test, y_pred)\n",
        "print(f\"Test set accuracy with best K: {test_accuracy:.4f}\")"
      ],
      "metadata": {
        "colab": {
          "base_uri": "https://localhost:8080/"
        },
        "id": "F94qv159Q7u3",
        "outputId": "944131b8-2495-49b9-a9ca-312827ab3e1a"
      },
      "execution_count": 8,
      "outputs": [
        {
          "output_type": "stream",
          "name": "stdout",
          "text": [
            "Best K found by GridSearchCV: 9\n",
            "Best cross-validated accuracy: 0.9583\n",
            "Test set accuracy with best K: 0.9667\n"
          ]
        }
      ]
    }
  ]
}